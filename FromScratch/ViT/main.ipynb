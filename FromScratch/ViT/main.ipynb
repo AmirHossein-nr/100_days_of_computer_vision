{
 "cells": [
  {
   "cell_type": "markdown",
   "metadata": {},
   "source": [
    "# Vision Transformer from scratch"
   ]
  },
  {
   "cell_type": "code",
   "execution_count": 8,
   "metadata": {},
   "outputs": [],
   "source": [
    "import numpy as np\n",
    "from tqdm import tqdm_notebook, trange\n",
    "import matplotlib.pyplot as plt\n",
    "\n",
    "import mlx.core as mx\n",
    "import mlx.nn as nn\n",
    "import mlx.optimizers as optim\n",
    "import mlx.data as dx\n",
    "from mlx.data.datasets import load_mnist"
   ]
  },
  {
   "cell_type": "code",
   "execution_count": 10,
   "metadata": {},
   "outputs": [],
   "source": [
    "np.random.seed(0)\n",
    "mx.random.seed(0)"
   ]
  },
  {
   "cell_type": "code",
   "execution_count": 19,
   "metadata": {},
   "outputs": [
    {
     "data": {
      "image/png": "[encoded data removed]",
      "text/plain": [
       "<Figure size 1000x500 with 10 Axes>"
      ]
     },
     "metadata": {},
     "output_type": "display_data"
    }
   ],
   "source": [
    "# Load the MNIST dataset\n",
    "mnist_train_data = load_mnist(\"./Data/Train\", train=True)\n",
    "mnist_test_data = load_mnist(\"./Data/Test\", train=False)\n",
    "train_loader = (\n",
    "    mnist_train_data.shuffle()\n",
    "    .to_stream()\n",
    "    .key_transform(\"image\", lambda x: x.astype(\"float32\") / 255.0)\n",
    "    .batch(128)\n",
    ")\n",
    "test_loader = (\n",
    "    mnist_test_data.to_stream()\n",
    "    .key_transform(\"image\", lambda x: x.astype(\"float32\") / 255.0)\n",
    "    .batch(128)\n",
    ")\n",
    "\n",
    "plt.figure(figsize=(10, 5))\n",
    "for i in range(10):\n",
    "    plt.subplot(2, 5, i + 1)\n",
    "    plt.imshow(mnist_train_data[i][\"image\"], cmap=\"gray\")\n",
    "    plt.title(mnist_train_data[i][\"label\"])\n",
    "    plt.axis(\"off\")"
   ]
  },
  {
   "cell_type": "markdown",
   "metadata": {},
   "source": [
    "## Patchfitying the input image"
   ]
  },
  {
   "cell_type": "code",
   "execution_count": 29,
   "metadata": {},
   "outputs": [],
   "source": [
    "@mx.compile\n",
    "def patchify(images, n_patches):\n",
    "    n, h, w, c = images.shape\n",
    "\n",
    "    assert h == w, \"Patchifying is currently only supported for square images\"\n",
    "\n",
    "    patches = mx.zeros((n, n_patches**2, h * w * c // n_patches**2))\n",
    "    patch_size = h // n_patches\n",
    "\n",
    "    for idx, image in enumerate(images):\n",
    "        for i in range(n_patches):\n",
    "            for j in range(n_patches):\n",
    "                patch = image[\n",
    "                    i * patch_size : (i + 1) * patch_size,\n",
    "                    j * patch_size : (j + 1) * patch_size,\n",
    "                ]\n",
    "                patches[idx, i * n_patches + j] = patch.reshape(-1)\n",
    "    return patches"
   ]
  },
  {
   "cell_type": "code",
   "execution_count": 33,
   "metadata": {},
   "outputs": [
    {
     "data": {
      "image/png": "[encoded data removed]",
      "text/plain": [
       "<Figure size 1000x500 with 49 Axes>"
      ]
     },
     "metadata": {},
     "output_type": "display_data"
    }
   ],
   "source": [
    "# Testing patchify on a single test image\n",
    "test_image = mx.array(mnist_test_data[0][\"image\"])\n",
    "test_patches = patchify(test_image[None, ...], 7)\n",
    "plt.figure(figsize=(10, 5))\n",
    "for i in range(49):\n",
    "    plt.subplot(7, 7, i + 1)\n",
    "    plt.imshow(test_patches[0, i].reshape(4, 4), cmap=\"gray\")\n",
    "    plt.axis(\"off\")\n"
   ]
  },
  {
   "cell_type": "code",
   "execution_count": 34,
   "metadata": {},
   "outputs": [
    {
     "data": {
      "text/plain": [
       "(1, 49, 16)"
      ]
     },
     "execution_count": 34,
     "metadata": {},
     "output_type": "execute_result"
    }
   ],
   "source": [
    "test_patches.shape"
   ]
  },
  {
   "cell_type": "code",
   "execution_count": 22,
   "metadata": {},
   "outputs": [],
   "source": [
    "class MyViT(nn.Module):\n",
    "    def __init__(self, hwc=(28, 28, 1), n_patches=7, hidden_dim=64):\n",
    "        super().__init__()\n",
    "\n",
    "        self.hwc = hwc\n",
    "        self.n_patches = n_patches\n",
    "\n",
    "        assert hwc[0] % n_patches == 0, \"Image height must be divisible by n_patches\"\n",
    "        assert hwc[1] % n_patches == 0, \"Image width must be divisible by n_patches\"\n",
    "\n",
    "        self.patch_size = (hwc[0] // n_patches, hwc[1] // n_patches)\n",
    "\n",
    "        # 1. Linear mapping\n",
    "        self.hidden_dim = hidden_dim\n",
    "        self.input_d = int(hwc[2] * self.patch_size[0] * self.patch_size[1])\n",
    "        self.linear_mapper = nn.Linear(self.input_d, self.hidden_dim)\n",
    "\n",
    "        # 2. Add learnable classification token\n",
    "        self.cls_token = nn.Parameter((1, 1, self.hidden_dim))\n",
    "\n",
    "    def __call__(self, images):\n",
    "        patches = patchify(images, self.n_patches)\n",
    "        tokens = self.linear_mapper(patches)\n",
    "        tokens = mx.stack([self.cls_token] + tokens, axis=1)\n",
    "        return patches"
   ]
  },
  {
   "cell_type": "code",
   "execution_count": null,
   "metadata": {},
   "outputs": [],
   "source": []
  }
 ],
 "metadata": {
  "kernelspec": {
   "display_name": "NIE",
   "language": "python",
   "name": "python3"
  },
  "language_info": {
   "codemirror_mode": {
    "name": "ipython",
    "version": 3
   },
   "file_extension": ".py",
   "mimetype": "text/x-python",
   "name": "python",
   "nbconvert_exporter": "python",
   "pygments_lexer": "ipython3",
   "version": "3.10.13"
  }
 },
 "nbformat": 4,
 "nbformat_minor": 2
}
