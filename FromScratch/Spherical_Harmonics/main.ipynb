{
 "cells": [
  {
   "cell_type": "markdown",
   "metadata": {},
   "source": [
    "# Spherical Harmonics from Scratch"
   ]
  },
  {
   "cell_type": "code",
   "execution_count": 3,
   "metadata": {},
   "outputs": [],
   "source": [
    "import numpy as np\n",
    "import matplotlib.pyplot as plt"
   ]
  },
  {
   "cell_type": "code",
   "execution_count": 4,
   "metadata": {},
   "outputs": [],
   "source": [
    "def calculate_K(l: int, m: int) -> float:\n",
    "    return np.sqrt(\n",
    "        (2 * l + 1)\n",
    "        / (4 * np.math.pi)\n",
    "        * np.math.factorial(l - m)\n",
    "        / np.math.factorial(l + m)\n",
    "    )"
   ]
  },
  {
   "cell_type": "code",
   "execution_count": 7,
   "metadata": {},
   "outputs": [],
   "source": [
    "def calculate_P(l: int, m: int, x: float) -> float:\n",
    "    pmm = 1.0  # value of polynomial when l == m\n",
    "    if m > 0:\n",
    "        somx2 = np.sqrt((1.0 - x) * (1.0 + x))\n",
    "        fact = 1.0  # factor, increasing by 2 at each iter\n",
    "        for i in range(1, m + 1):\n",
    "            pmm *= -fact * somx2\n",
    "            fact += 2.0\n",
    "    if l == m:\n",
    "        return pmm\n",
    "\n",
    "    pmmp1 = x * (2.0 * m + 1.0) * pmm  # value of polynomial when l == m + 1\n",
    "    if l == m + 1:\n",
    "        return pmmp1\n",
    "\n",
    "    pll = 0.0  # value of polynomial when l > m + 1\n",
    "    for ll in range(m + 2, l + 1):\n",
    "        pll = ((2.0 * ll - 1.0) * x * pmmp1 - (ll + m - 1.0) * pmm) / (ll - m)\n",
    "        pmm = pmmp1\n",
    "        pmmp1 = pll\n",
    "\n",
    "    return pll"
   ]
  },
  {
   "cell_type": "code",
   "execution_count": 8,
   "metadata": {},
   "outputs": [],
   "source": [
    "def calculate_SH(l: int, m: int, theta: float, phi: float) -> float:\n",
    "    if m == 0:\n",
    "        return calculate_K(l, m) * calculate_P(l, m, np.cos(theta))\n",
    "\n",
    "    if m > 0:\n",
    "        return (\n",
    "            np.sqrt(2.0)\n",
    "            * calculate_K(l, m)\n",
    "            * np.cos(m * phi)\n",
    "            * calculate_P(l, m, np.cos(theta))\n",
    "        )\n",
    "\n",
    "    return (\n",
    "        np.sqrt(2.0)\n",
    "        * calculate_K(l, -m)\n",
    "        * np.sin(-m * phi)\n",
    "        * calculate_P(l, -m, np.cos(theta))\n",
    "    )"
   ]
  },
  {
   "cell_type": "markdown",
   "metadata": {},
   "source": [
    "## Signal Encoding using SH"
   ]
  },
  {
   "cell_type": "code",
   "execution_count": 9,
   "metadata": {},
   "outputs": [],
   "source": [
    "def encode_sh_coefficients(l: int, m: int) -> float:\n",
    "    STEPS_PHI = 200\n",
    "    STEPS_THETA = 100\n",
    "    d_phi = 2 * np.math.pi / STEPS_PHI\n",
    "    d_theta = np.math.pi / STEPS_THETA\n",
    "\n",
    "    coeff = 0.0\n",
    "    for i in range(STEPS_PHI):\n",
    "        phi = i * d_phi\n",
    "        for j in range(STEPS_THETA):\n",
    "            theta = (0.5 + j) * d_theta\n",
    "            coeff += calculate_SH(l, m, theta, phi) * np.sin(theta) * d_theta * d_phi\n",
    "\n",
    "    return coeff"
   ]
  },
  {
   "cell_type": "code",
   "execution_count": null,
   "metadata": {},
   "outputs": [],
   "source": []
  }
 ],
 "metadata": {
  "kernelspec": {
   "display_name": "NIE",
   "language": "python",
   "name": "python3"
  },
  "language_info": {
   "codemirror_mode": {
    "name": "ipython",
    "version": 3
   },
   "file_extension": ".py",
   "mimetype": "text/x-python",
   "name": "python",
   "nbconvert_exporter": "python",
   "pygments_lexer": "ipython3",
   "version": "3.10.13"
  }
 },
 "nbformat": 4,
 "nbformat_minor": 2
}
